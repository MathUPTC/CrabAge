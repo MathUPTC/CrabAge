{
 "cells": [
  {
   "cell_type": "markdown",
   "metadata": {},
   "source": [
    "# **Analisis Predictivo de la Edad del Cangrejo 🦀**"
   ]
  },
  {
   "cell_type": "markdown",
   "metadata": {},
   "source": [
    "# **Importamos Librerias**"
   ]
  },
  {
   "cell_type": "code",
   "execution_count": 1,
   "metadata": {
    "tags": []
   },
   "outputs": [],
   "source": [
    "import pandas as pd\n",
    "import numpy as np\n",
    "import matplotlib.pyplot as plt\n",
    "import seaborn as sns\n",
    "import kaggle"
   ]
  },
  {
   "cell_type": "markdown",
   "metadata": {},
   "source": [
    "# **Carga de Datos**"
   ]
  },
  {
   "cell_type": "code",
   "execution_count": 2,
   "metadata": {
    "tags": []
   },
   "outputs": [
    {
     "name": "stdout",
     "output_type": "stream",
     "text": [
      "Dataset URL: https://www.kaggle.com/datasets/sidhus/crab-age-prediction\n",
      "License(s): CC0-1.0\n",
      "crab-age-prediction.zip: Skipping, found more recently modified local copy (use --force to force download)\n"
     ]
    },
    {
     "name": "stderr",
     "output_type": "stream",
     "text": [
      "2025-01-14 00:22:10,264 WARNING Retrying (Retry(total=2, connect=None, read=None, redirect=None, status=None)) after connection broken by 'NameResolutionError(\"<urllib3.connection.HTTPSConnection object at 0x0000023B5B58DA10>: Failed to resolve 'www.kaggle.com' ([Errno 11001] getaddrinfo failed)\")': /api/v1/datasets/metadata/sidhus/crab-age-prediction\n"
     ]
    }
   ],
   "source": [
    "!kaggle datasets download -d sidhus/crab-age-prediction -p \"D:\\DataSets\\CrabAge\""
   ]
  },
  {
   "cell_type": "markdown",
   "metadata": {},
   "source": [
    "## Vamos a descomprimir el archivo .zip, para eso vamos a utilizar python"
   ]
  },
  {
   "cell_type": "code",
   "execution_count": 3,
   "metadata": {},
   "outputs": [
    {
     "name": "stdout",
     "output_type": "stream",
     "text": [
      "Archivo descomprimido correctamente.\n"
     ]
    }
   ],
   "source": [
    "import zipfile\n",
    "\n",
    "#Ruta del archivo zip\n",
    "zip_file_path = \"D:/DataSets/CrabAge/crab-age-prediction.zip\"\n",
    "\n",
    "#Carpeta de destino\n",
    "destination_path = \"D:/DataSets/CrabAge\"\n",
    "\n",
    "#Extraer el archivo\n",
    "with zipfile.ZipFile(zip_file_path, \"r\") as zip_ref:\n",
    "    zip_ref.extractall(destination_path)\n",
    "\n",
    "print(\"Archivo descomprimido correctamente.\")"
   ]
  },
  {
   "cell_type": "markdown",
   "metadata": {},
   "source": [
    "## Cargamos el archivo .csv"
   ]
  },
  {
   "cell_type": "code",
   "execution_count": 4,
   "metadata": {
    "tags": []
   },
   "outputs": [
    {
     "name": "stdout",
     "output_type": "stream",
     "text": [
      "Dataframe cargado con éxito\n"
     ]
    }
   ],
   "source": [
    "import os\n",
    "\n",
    "raw_path = \"D:/DataSets/CrabAge\"\n",
    "\n",
    "csv_path = os.path.join(raw_path, \"CrabAgePrediction.csv\")\n",
    "\n",
    "#Verificar si el archivo existe antes de cargarlo\n",
    "if os.path.exists(csv_path):\n",
    "    #Cargar el archivo CSV en un dataframe\n",
    "    data = pd.read_csv(csv_path)\n",
    "    print(\"Dataframe cargado con éxito\")\n",
    "else:\n",
    "    print(f\"El archivo {csv_path} no fue encontrado.\")\n"
   ]
  },
  {
   "cell_type": "markdown",
   "metadata": {},
   "source": [
    "## Veamos los datos en la tabla"
   ]
  },
  {
   "cell_type": "code",
   "execution_count": 5,
   "metadata": {
    "tags": []
   },
   "outputs": [
    {
     "data": {
      "text/html": [
       "<div>\n",
       "<style scoped>\n",
       "    .dataframe tbody tr th:only-of-type {\n",
       "        vertical-align: middle;\n",
       "    }\n",
       "\n",
       "    .dataframe tbody tr th {\n",
       "        vertical-align: top;\n",
       "    }\n",
       "\n",
       "    .dataframe thead th {\n",
       "        text-align: right;\n",
       "    }\n",
       "</style>\n",
       "<table border=\"1\" class=\"dataframe\">\n",
       "  <thead>\n",
       "    <tr style=\"text-align: right;\">\n",
       "      <th></th>\n",
       "      <th>Sex</th>\n",
       "      <th>Length</th>\n",
       "      <th>Diameter</th>\n",
       "      <th>Height</th>\n",
       "      <th>Weight</th>\n",
       "      <th>Shucked Weight</th>\n",
       "      <th>Viscera Weight</th>\n",
       "      <th>Shell Weight</th>\n",
       "      <th>Age</th>\n",
       "    </tr>\n",
       "  </thead>\n",
       "  <tbody>\n",
       "    <tr>\n",
       "      <th>0</th>\n",
       "      <td>F</td>\n",
       "      <td>1.4375</td>\n",
       "      <td>1.1750</td>\n",
       "      <td>0.4125</td>\n",
       "      <td>24.635715</td>\n",
       "      <td>12.332033</td>\n",
       "      <td>5.584852</td>\n",
       "      <td>6.747181</td>\n",
       "      <td>9</td>\n",
       "    </tr>\n",
       "    <tr>\n",
       "      <th>1</th>\n",
       "      <td>M</td>\n",
       "      <td>0.8875</td>\n",
       "      <td>0.6500</td>\n",
       "      <td>0.2125</td>\n",
       "      <td>5.400580</td>\n",
       "      <td>2.296310</td>\n",
       "      <td>1.374951</td>\n",
       "      <td>1.559222</td>\n",
       "      <td>6</td>\n",
       "    </tr>\n",
       "    <tr>\n",
       "      <th>2</th>\n",
       "      <td>I</td>\n",
       "      <td>1.0375</td>\n",
       "      <td>0.7750</td>\n",
       "      <td>0.2500</td>\n",
       "      <td>7.952035</td>\n",
       "      <td>3.231843</td>\n",
       "      <td>1.601747</td>\n",
       "      <td>2.764076</td>\n",
       "      <td>6</td>\n",
       "    </tr>\n",
       "    <tr>\n",
       "      <th>3</th>\n",
       "      <td>F</td>\n",
       "      <td>1.1750</td>\n",
       "      <td>0.8875</td>\n",
       "      <td>0.2500</td>\n",
       "      <td>13.480187</td>\n",
       "      <td>4.748541</td>\n",
       "      <td>2.282135</td>\n",
       "      <td>5.244657</td>\n",
       "      <td>10</td>\n",
       "    </tr>\n",
       "    <tr>\n",
       "      <th>4</th>\n",
       "      <td>I</td>\n",
       "      <td>0.8875</td>\n",
       "      <td>0.6625</td>\n",
       "      <td>0.2125</td>\n",
       "      <td>6.903103</td>\n",
       "      <td>3.458639</td>\n",
       "      <td>1.488349</td>\n",
       "      <td>1.700970</td>\n",
       "      <td>6</td>\n",
       "    </tr>\n",
       "  </tbody>\n",
       "</table>\n",
       "</div>"
      ],
      "text/plain": [
       "  Sex  Length  Diameter  Height     Weight  Shucked Weight  Viscera Weight  \\\n",
       "0   F  1.4375    1.1750  0.4125  24.635715       12.332033        5.584852   \n",
       "1   M  0.8875    0.6500  0.2125   5.400580        2.296310        1.374951   \n",
       "2   I  1.0375    0.7750  0.2500   7.952035        3.231843        1.601747   \n",
       "3   F  1.1750    0.8875  0.2500  13.480187        4.748541        2.282135   \n",
       "4   I  0.8875    0.6625  0.2125   6.903103        3.458639        1.488349   \n",
       "\n",
       "   Shell Weight  Age  \n",
       "0      6.747181    9  \n",
       "1      1.559222    6  \n",
       "2      2.764076    6  \n",
       "3      5.244657   10  \n",
       "4      1.700970    6  "
      ]
     },
     "execution_count": 5,
     "metadata": {},
     "output_type": "execute_result"
    }
   ],
   "source": [
    "data.head()"
   ]
  },
  {
   "cell_type": "markdown",
   "metadata": {},
   "source": [
    "# **Análisis Exploratorio**\n",
    "\n",
    "**Descripción General**\n",
    "\n",
    "        • ¿Qué variables están presentes?\n",
    "        • ¿Cuántos registros hay en el dataset?\n",
    "        • ¿Qué tipos de datos tienen las variables? (numéricos, categóricos, fechas, texto, etc.)\n",
    "\n",
    "**Contexto del dominio**\n",
    "\n",
    "        • ¿Qué significan las variables y cómo se relacionan con el objetivo del análisis?"
   ]
  },
  {
   "cell_type": "markdown",
   "metadata": {},
   "source": [
    "## Descripción General"
   ]
  },
  {
   "cell_type": "code",
   "execution_count": 6,
   "metadata": {
    "tags": []
   },
   "outputs": [
    {
     "name": "stdout",
     "output_type": "stream",
     "text": [
      "<class 'pandas.core.frame.DataFrame'>\n",
      "RangeIndex: 3893 entries, 0 to 3892\n",
      "Data columns (total 9 columns):\n",
      " #   Column          Non-Null Count  Dtype  \n",
      "---  ------          --------------  -----  \n",
      " 0   Sex             3893 non-null   object \n",
      " 1   Length          3893 non-null   float64\n",
      " 2   Diameter        3893 non-null   float64\n",
      " 3   Height          3893 non-null   float64\n",
      " 4   Weight          3893 non-null   float64\n",
      " 5   Shucked Weight  3893 non-null   float64\n",
      " 6   Viscera Weight  3893 non-null   float64\n",
      " 7   Shell Weight    3893 non-null   float64\n",
      " 8   Age             3893 non-null   int64  \n",
      "dtypes: float64(7), int64(1), object(1)\n",
      "memory usage: 273.9+ KB\n"
     ]
    }
   ],
   "source": [
    "data.info()"
   ]
  },
  {
   "cell_type": "markdown",
   "metadata": {},
   "source": [
    "Las variables presentes en el Dataset son:\n",
    "    \n",
    "        • Sex (Sexo)\n",
    "        • length (largo)\n",
    "        • Diameter (Diametro)\n",
    "        • Height (Altura)\n",
    "        • Weight (Peso)\n",
    "        • Shucked Weight (Peso Descascarado)\n",
    "        • Viscera Weight (Peso de las Visceras)\n",
    "        • Shell Weight (Peso de la Concha)\n",
    "        • Age (Edad)\n"
   ]
  },
  {
   "cell_type": "markdown",
   "metadata": {},
   "source": [
    "Cantidad de Registros y Tipos de Variables:\n",
    "\n",
    "> Tenemos `3893` registros, en cada una de las `9` variables obtenidas.\n",
    "\n",
    "> Todas las variables son tipo númerico en particular `Float`, excepto Sex que es de tipo `categórico`.\n",
    "\n",
    "> En particular, la variable númerica `Age` es discreta, excepto las otras variables númericas que son continuas."
   ]
  },
  {
   "cell_type": "markdown",
   "metadata": {},
   "source": [
    "## Contexto del dominio"
   ]
  },
  {
   "cell_type": "markdown",
   "metadata": {},
   "source": [
    "**Objetivo**:\n",
    "\n",
    "> Construir un modelo preciso que permitirá a los criadores tomar decisiones más informadas sobre cuándo cosechar los cangrejos, maximizando así sus ganancias."
   ]
  },
  {
   "cell_type": "markdown",
   "metadata": {},
   "source": [
    "**Descripción de las Variables o Características:**\n",
    "\n",
    "> - Age (Edad): Edad del cangrejo (en meses)\n",
    "\n",
    "> - Sex (Sexo): Sexo del cangrejo; Femenino (F), masculino (M) o indeterminado (I).\n",
    "\n",
    "> - length (largo): Largo del cangrejo (en pies; 1 pie = 30.48 cm).\n",
    "\n",
    "> - Diameter (Diametro): Diametro del cangrejo (en pies; 1 pie = 30.48 cm).\n",
    "\n",
    "> - Height (Altura): Altura del cangrejo (en pies; 1 pie = 30.48 cm).\n",
    "\n",
    "> - Weight (Peso): Peso del cangrejo (en onzas; 1 libra = 16 onzas).\n",
    "\n",
    "> - Shucked Weight (Peso Descascarado): Peso del cangrejo sin cascarón (en onzas; 1 libra = 16 onzas).\n",
    "\n",
    "> - Viscera Weight (Peso de las Visceras): Peso de las visceras del cangrejo (en onzas; 1 libra = 16 onzas).\n",
    "\n",
    "> - Shell Weight (Peso de la Concha): Peso del cascarón del cangrejo (en onzas; 1 libra = 16 onzas).\n",
    "\n",
    "La varible objetivo o a predecir es `Age`\n"
   ]
  },
  {
   "cell_type": "markdown",
   "metadata": {},
   "source": [
    "> Notemos que las variables son características de los cangrejos, que nos van ayudar a predeccir cuál es la edad correcta del cangrejo para cosecharlos."
   ]
  },
  {
   "cell_type": "markdown",
   "metadata": {},
   "source": [
    "# **Limpieza de datos**\n",
    "\n",
    "**Valores faltantes:**\n",
    "\n",
    "        • ¿Qué proporción de datos falta en cada variable?\n",
    "        • ¿Estos valores faltantes tienen un patrón (aleatorio o no)?\n",
    "        • ¿Cómo se pueden manejar (eliminación, imputación)?\n",
    "\n",
    "**Errores o inconsistencias:**\n",
    "\n",
    "        • ¿Existen valores que no tengan sentido o estén fuera de rango?\n",
    "        • Por ejemplo, edades negativas o fechas imposibles.\n",
    "\n",
    "**Duplicados:**\n",
    "\n",
    "        • ¿Hay registros repetidos que deben eliminarse?"
   ]
  },
  {
   "cell_type": "markdown",
   "metadata": {},
   "source": [
    "# Valores Faltantes o Nulos (NaN)"
   ]
  },
  {
   "cell_type": "code",
   "execution_count": 7,
   "metadata": {},
   "outputs": [
    {
     "data": {
      "text/html": [
       "<div>\n",
       "<style scoped>\n",
       "    .dataframe tbody tr th:only-of-type {\n",
       "        vertical-align: middle;\n",
       "    }\n",
       "\n",
       "    .dataframe tbody tr th {\n",
       "        vertical-align: top;\n",
       "    }\n",
       "\n",
       "    .dataframe thead th {\n",
       "        text-align: right;\n",
       "    }\n",
       "</style>\n",
       "<table border=\"1\" class=\"dataframe\">\n",
       "  <thead>\n",
       "    <tr style=\"text-align: right;\">\n",
       "      <th></th>\n",
       "      <th>Length</th>\n",
       "      <th>Diameter</th>\n",
       "      <th>Height</th>\n",
       "      <th>Weight</th>\n",
       "      <th>Shucked Weight</th>\n",
       "      <th>Viscera Weight</th>\n",
       "      <th>Shell Weight</th>\n",
       "      <th>Age</th>\n",
       "    </tr>\n",
       "  </thead>\n",
       "  <tbody>\n",
       "    <tr>\n",
       "      <th>count</th>\n",
       "      <td>3893.000000</td>\n",
       "      <td>3893.000000</td>\n",
       "      <td>3893.000000</td>\n",
       "      <td>3893.000000</td>\n",
       "      <td>3893.000000</td>\n",
       "      <td>3893.000000</td>\n",
       "      <td>3893.000000</td>\n",
       "      <td>3893.000000</td>\n",
       "    </tr>\n",
       "    <tr>\n",
       "      <th>mean</th>\n",
       "      <td>1.311306</td>\n",
       "      <td>1.020893</td>\n",
       "      <td>0.349374</td>\n",
       "      <td>23.567275</td>\n",
       "      <td>10.207342</td>\n",
       "      <td>5.136546</td>\n",
       "      <td>6.795844</td>\n",
       "      <td>9.954791</td>\n",
       "    </tr>\n",
       "    <tr>\n",
       "      <th>std</th>\n",
       "      <td>0.300431</td>\n",
       "      <td>0.248233</td>\n",
       "      <td>0.104976</td>\n",
       "      <td>13.891201</td>\n",
       "      <td>6.275275</td>\n",
       "      <td>3.104133</td>\n",
       "      <td>3.943392</td>\n",
       "      <td>3.220967</td>\n",
       "    </tr>\n",
       "    <tr>\n",
       "      <th>min</th>\n",
       "      <td>0.187500</td>\n",
       "      <td>0.137500</td>\n",
       "      <td>0.000000</td>\n",
       "      <td>0.056699</td>\n",
       "      <td>0.028349</td>\n",
       "      <td>0.014175</td>\n",
       "      <td>0.042524</td>\n",
       "      <td>1.000000</td>\n",
       "    </tr>\n",
       "    <tr>\n",
       "      <th>25%</th>\n",
       "      <td>1.125000</td>\n",
       "      <td>0.875000</td>\n",
       "      <td>0.287500</td>\n",
       "      <td>12.672227</td>\n",
       "      <td>5.343881</td>\n",
       "      <td>2.664853</td>\n",
       "      <td>3.713785</td>\n",
       "      <td>8.000000</td>\n",
       "    </tr>\n",
       "    <tr>\n",
       "      <th>50%</th>\n",
       "      <td>1.362500</td>\n",
       "      <td>1.062500</td>\n",
       "      <td>0.362500</td>\n",
       "      <td>22.792998</td>\n",
       "      <td>9.539607</td>\n",
       "      <td>4.861939</td>\n",
       "      <td>6.662133</td>\n",
       "      <td>10.000000</td>\n",
       "    </tr>\n",
       "    <tr>\n",
       "      <th>75%</th>\n",
       "      <td>1.537500</td>\n",
       "      <td>1.200000</td>\n",
       "      <td>0.412500</td>\n",
       "      <td>32.786197</td>\n",
       "      <td>14.273973</td>\n",
       "      <td>7.200773</td>\n",
       "      <td>9.355335</td>\n",
       "      <td>11.000000</td>\n",
       "    </tr>\n",
       "    <tr>\n",
       "      <th>max</th>\n",
       "      <td>2.037500</td>\n",
       "      <td>1.625000</td>\n",
       "      <td>2.825000</td>\n",
       "      <td>80.101512</td>\n",
       "      <td>42.184056</td>\n",
       "      <td>21.545620</td>\n",
       "      <td>28.491248</td>\n",
       "      <td>29.000000</td>\n",
       "    </tr>\n",
       "  </tbody>\n",
       "</table>\n",
       "</div>"
      ],
      "text/plain": [
       "            Length     Diameter       Height       Weight  Shucked Weight  \\\n",
       "count  3893.000000  3893.000000  3893.000000  3893.000000     3893.000000   \n",
       "mean      1.311306     1.020893     0.349374    23.567275       10.207342   \n",
       "std       0.300431     0.248233     0.104976    13.891201        6.275275   \n",
       "min       0.187500     0.137500     0.000000     0.056699        0.028349   \n",
       "25%       1.125000     0.875000     0.287500    12.672227        5.343881   \n",
       "50%       1.362500     1.062500     0.362500    22.792998        9.539607   \n",
       "75%       1.537500     1.200000     0.412500    32.786197       14.273973   \n",
       "max       2.037500     1.625000     2.825000    80.101512       42.184056   \n",
       "\n",
       "       Viscera Weight  Shell Weight          Age  \n",
       "count     3893.000000   3893.000000  3893.000000  \n",
       "mean         5.136546      6.795844     9.954791  \n",
       "std          3.104133      3.943392     3.220967  \n",
       "min          0.014175      0.042524     1.000000  \n",
       "25%          2.664853      3.713785     8.000000  \n",
       "50%          4.861939      6.662133    10.000000  \n",
       "75%          7.200773      9.355335    11.000000  \n",
       "max         21.545620     28.491248    29.000000  "
      ]
     },
     "execution_count": 7,
     "metadata": {},
     "output_type": "execute_result"
    }
   ],
   "source": [
    "data.describe()"
   ]
  },
  {
   "cell_type": "markdown",
   "metadata": {},
   "source": [
    "> Note que el dataset no tiene `valores faltantes`, cada columna tiene `3893` registros completos."
   ]
  },
  {
   "cell_type": "code",
   "execution_count": 8,
   "metadata": {},
   "outputs": [
    {
     "name": "stdout",
     "output_type": "stream",
     "text": [
      "Sex               0\n",
      "Length            0\n",
      "Diameter          0\n",
      "Height            0\n",
      "Weight            0\n",
      "Shucked Weight    0\n",
      "Viscera Weight    0\n",
      "Shell Weight      0\n",
      "Age               0\n",
      "dtype: int64\n"
     ]
    }
   ],
   "source": [
    "# Para mostrar más detalle del dataset, no es necesario\n",
    "sum_nan = data.isnull().sum()\n",
    "print(sum_nan)"
   ]
  },
  {
   "cell_type": "markdown",
   "metadata": {},
   "source": [
    "# Errores o Inscosistencias\n",
    "\n",
    "> Veamos que en las columnas de tipo númericas no tienen valores negativos, ya que no tendrian sentido para nuestra predección."
   ]
  },
  {
   "cell_type": "code",
   "execution_count": 9,
   "metadata": {},
   "outputs": [
    {
     "name": "stdout",
     "output_type": "stream",
     "text": [
      "Valores negativos encontrados en la variable Length:\n",
      "Empty DataFrame\n",
      "Columns: [Sex, Length, Diameter, Height, Weight, Shucked Weight, Viscera Weight, Shell Weight, Age]\n",
      "Index: []\n",
      "Valores negativos encontrados en la variable Diameter:\n",
      "Empty DataFrame\n",
      "Columns: [Sex, Length, Diameter, Height, Weight, Shucked Weight, Viscera Weight, Shell Weight, Age]\n",
      "Index: []\n",
      "Valores negativos encontrados en la variable Height:\n",
      "Empty DataFrame\n",
      "Columns: [Sex, Length, Diameter, Height, Weight, Shucked Weight, Viscera Weight, Shell Weight, Age]\n",
      "Index: []\n",
      "Valores negativos encontrados en la variable Weight:\n",
      "Empty DataFrame\n",
      "Columns: [Sex, Length, Diameter, Height, Weight, Shucked Weight, Viscera Weight, Shell Weight, Age]\n",
      "Index: []\n",
      "Valores negativos encontrados en la variable Shucked Weight:\n",
      "Empty DataFrame\n",
      "Columns: [Sex, Length, Diameter, Height, Weight, Shucked Weight, Viscera Weight, Shell Weight, Age]\n",
      "Index: []\n",
      "Valores negativos encontrados en la variable Viscera Weight:\n",
      "Empty DataFrame\n",
      "Columns: [Sex, Length, Diameter, Height, Weight, Shucked Weight, Viscera Weight, Shell Weight, Age]\n",
      "Index: []\n",
      "Valores negativos encontrados en la variable Shell Weight:\n",
      "Empty DataFrame\n",
      "Columns: [Sex, Length, Diameter, Height, Weight, Shucked Weight, Viscera Weight, Shell Weight, Age]\n",
      "Index: []\n",
      "Valores negativos encontrados en la variable Age:\n",
      "Empty DataFrame\n",
      "Columns: [Sex, Length, Diameter, Height, Weight, Shucked Weight, Viscera Weight, Shell Weight, Age]\n",
      "Index: []\n"
     ]
    }
   ],
   "source": [
    "# Para mostrar más detalle del dataset, no es necesario\n",
    "\n",
    "data_copy = data.drop(columns=[\"Sex\"])\n",
    "\n",
    "for column in data_copy.columns:\n",
    "    print(f\"Valores negativos encontrados en la variable {column}:\")\n",
    "    print(data[data[column] < 0])\n"
   ]
  },
  {
   "cell_type": "code",
   "execution_count": 10,
   "metadata": {},
   "outputs": [
    {
     "data": {
      "text/html": [
       "<div>\n",
       "<style scoped>\n",
       "    .dataframe tbody tr th:only-of-type {\n",
       "        vertical-align: middle;\n",
       "    }\n",
       "\n",
       "    .dataframe tbody tr th {\n",
       "        vertical-align: top;\n",
       "    }\n",
       "\n",
       "    .dataframe thead th {\n",
       "        text-align: right;\n",
       "    }\n",
       "</style>\n",
       "<table border=\"1\" class=\"dataframe\">\n",
       "  <thead>\n",
       "    <tr style=\"text-align: right;\">\n",
       "      <th></th>\n",
       "      <th>Sex</th>\n",
       "      <th>Length</th>\n",
       "      <th>Diameter</th>\n",
       "      <th>Height</th>\n",
       "      <th>Weight</th>\n",
       "      <th>Shucked Weight</th>\n",
       "      <th>Viscera Weight</th>\n",
       "      <th>Shell Weight</th>\n",
       "      <th>Age</th>\n",
       "    </tr>\n",
       "  </thead>\n",
       "  <tbody>\n",
       "    <tr>\n",
       "      <th>269</th>\n",
       "      <td>I</td>\n",
       "      <td>0.7875</td>\n",
       "      <td>0.575</td>\n",
       "      <td>0.0</td>\n",
       "      <td>3.798833</td>\n",
       "      <td>1.630096</td>\n",
       "      <td>0.807961</td>\n",
       "      <td>9.936500</td>\n",
       "      <td>6</td>\n",
       "    </tr>\n",
       "    <tr>\n",
       "      <th>3867</th>\n",
       "      <td>I</td>\n",
       "      <td>1.0750</td>\n",
       "      <td>0.850</td>\n",
       "      <td>0.0</td>\n",
       "      <td>12.133586</td>\n",
       "      <td>5.854172</td>\n",
       "      <td>2.438057</td>\n",
       "      <td>3.260193</td>\n",
       "      <td>8</td>\n",
       "    </tr>\n",
       "  </tbody>\n",
       "</table>\n",
       "</div>"
      ],
      "text/plain": [
       "     Sex  Length  Diameter  Height     Weight  Shucked Weight  Viscera Weight  \\\n",
       "269    I  0.7875     0.575     0.0   3.798833        1.630096        0.807961   \n",
       "3867   I  1.0750     0.850     0.0  12.133586        5.854172        2.438057   \n",
       "\n",
       "      Shell Weight  Age  \n",
       "269       9.936500    6  \n",
       "3867      3.260193    8  "
      ]
     },
     "execution_count": 10,
     "metadata": {},
     "output_type": "execute_result"
    }
   ],
   "source": [
    "data[data[\"Height\"] == 0]"
   ]
  },
  {
   "cell_type": "markdown",
   "metadata": {},
   "source": [
    "> Note que la columna `Height` su valor minimo es cero, lo cual no tiene sentido en nuestros datos."
   ]
  },
  {
   "cell_type": "markdown",
   "metadata": {},
   "source": [
    "# Imputación de datos "
   ]
  },
  {
   "cell_type": "code",
   "execution_count": 11,
   "metadata": {},
   "outputs": [],
   "source": [
    "data.iloc[269, 3] = 0.180317\n",
    "data.iloc[3867, 3] = 0.170518"
   ]
  },
  {
   "cell_type": "code",
   "execution_count": null,
   "metadata": {},
   "outputs": [
    {
     "data": {
      "text/html": [
       "<div>\n",
       "<style scoped>\n",
       "    .dataframe tbody tr th:only-of-type {\n",
       "        vertical-align: middle;\n",
       "    }\n",
       "\n",
       "    .dataframe tbody tr th {\n",
       "        vertical-align: top;\n",
       "    }\n",
       "\n",
       "    .dataframe thead th {\n",
       "        text-align: right;\n",
       "    }\n",
       "</style>\n",
       "<table border=\"1\" class=\"dataframe\">\n",
       "  <thead>\n",
       "    <tr style=\"text-align: right;\">\n",
       "      <th></th>\n",
       "      <th>Sex</th>\n",
       "      <th>Length</th>\n",
       "      <th>Diameter</th>\n",
       "      <th>Height</th>\n",
       "      <th>Weight</th>\n",
       "      <th>Shucked Weight</th>\n",
       "      <th>Viscera Weight</th>\n",
       "      <th>Shell Weight</th>\n",
       "      <th>Age</th>\n",
       "    </tr>\n",
       "  </thead>\n",
       "  <tbody>\n",
       "    <tr>\n",
       "      <th>0</th>\n",
       "      <td>F</td>\n",
       "      <td>1.4375</td>\n",
       "      <td>1.1750</td>\n",
       "      <td>0.4125</td>\n",
       "      <td>24.635715</td>\n",
       "      <td>12.332033</td>\n",
       "      <td>5.584852</td>\n",
       "      <td>6.747181</td>\n",
       "      <td>9</td>\n",
       "    </tr>\n",
       "    <tr>\n",
       "      <th>1</th>\n",
       "      <td>M</td>\n",
       "      <td>0.8875</td>\n",
       "      <td>0.6500</td>\n",
       "      <td>0.2125</td>\n",
       "      <td>5.400580</td>\n",
       "      <td>2.296310</td>\n",
       "      <td>1.374951</td>\n",
       "      <td>1.559222</td>\n",
       "      <td>6</td>\n",
       "    </tr>\n",
       "    <tr>\n",
       "      <th>2</th>\n",
       "      <td>I</td>\n",
       "      <td>1.0375</td>\n",
       "      <td>0.7750</td>\n",
       "      <td>0.2500</td>\n",
       "      <td>7.952035</td>\n",
       "      <td>3.231843</td>\n",
       "      <td>1.601747</td>\n",
       "      <td>2.764076</td>\n",
       "      <td>6</td>\n",
       "    </tr>\n",
       "    <tr>\n",
       "      <th>3</th>\n",
       "      <td>F</td>\n",
       "      <td>1.1750</td>\n",
       "      <td>0.8875</td>\n",
       "      <td>0.2500</td>\n",
       "      <td>13.480187</td>\n",
       "      <td>4.748541</td>\n",
       "      <td>2.282135</td>\n",
       "      <td>5.244657</td>\n",
       "      <td>10</td>\n",
       "    </tr>\n",
       "    <tr>\n",
       "      <th>4</th>\n",
       "      <td>I</td>\n",
       "      <td>0.8875</td>\n",
       "      <td>0.6625</td>\n",
       "      <td>0.2125</td>\n",
       "      <td>6.903103</td>\n",
       "      <td>3.458639</td>\n",
       "      <td>1.488349</td>\n",
       "      <td>1.700970</td>\n",
       "      <td>6</td>\n",
       "    </tr>\n",
       "  </tbody>\n",
       "</table>\n",
       "</div>"
      ],
      "text/plain": [
       "  Sex  Length  Diameter  Height     Weight  Shucked Weight  Viscera Weight  \\\n",
       "0   F  1.4375    1.1750  0.4125  24.635715       12.332033        5.584852   \n",
       "1   M  0.8875    0.6500  0.2125   5.400580        2.296310        1.374951   \n",
       "2   I  1.0375    0.7750  0.2500   7.952035        3.231843        1.601747   \n",
       "3   F  1.1750    0.8875  0.2500  13.480187        4.748541        2.282135   \n",
       "4   I  0.8875    0.6625  0.2125   6.903103        3.458639        1.488349   \n",
       "\n",
       "   Shell Weight  Age  \n",
       "0      6.747181    9  \n",
       "1      1.559222    6  \n",
       "2      2.764076    6  \n",
       "3      5.244657   10  \n",
       "4      1.700970    6  "
      ]
     },
     "execution_count": 20,
     "metadata": {},
     "output_type": "execute_result"
    }
   ],
   "source": [
    "data[data[\"Height\"] == 0]"
   ]
  },
  {
   "cell_type": "markdown",
   "metadata": {},
   "source": [
    "# Duplicados"
   ]
  },
  {
   "cell_type": "code",
   "execution_count": 13,
   "metadata": {},
   "outputs": [
    {
     "name": "stdout",
     "output_type": "stream",
     "text": [
      "0\n"
     ]
    }
   ],
   "source": [
    "sum_duplicados = data.duplicated().sum()\n",
    "print(sum_duplicados)"
   ]
  },
  {
   "cell_type": "markdown",
   "metadata": {},
   "source": [
    "> No tenemos registros `duplicados`"
   ]
  },
  {
   "cell_type": "markdown",
   "metadata": {},
   "source": [
    "# **Estadísticas Descriptivas**\n",
    "\n",
    "**Variables numéricas:**\n",
    "\n",
    "        • Resumen estadístico: media, mediana, desviación estándar, percentiles.\n",
    "        • Distribución: ¿Es simétrica, sesgada o tiene valores atípicos?\n",
    "\n",
    "**Variables categóricas:**\n",
    "\n",
    "        • Frecuencias y proporciones.\n",
    "        • ¿Cuáles son las categorías dominantes y menos representadas?\n",
    "\n",
    "**Correlaciones:**\n",
    "\n",
    "        • ¿Qué relaciones existen entre variables numéricas?\n",
    "        • Coeficientes como la correlación de Pearson o de Spearman.\n"
   ]
  },
  {
   "cell_type": "markdown",
   "metadata": {},
   "source": [
    "# Variables Numéricas"
   ]
  },
  {
   "cell_type": "code",
   "execution_count": 14,
   "metadata": {},
   "outputs": [
    {
     "data": {
      "text/html": [
       "<div>\n",
       "<style scoped>\n",
       "    .dataframe tbody tr th:only-of-type {\n",
       "        vertical-align: middle;\n",
       "    }\n",
       "\n",
       "    .dataframe tbody tr th {\n",
       "        vertical-align: top;\n",
       "    }\n",
       "\n",
       "    .dataframe thead th {\n",
       "        text-align: right;\n",
       "    }\n",
       "</style>\n",
       "<table border=\"1\" class=\"dataframe\">\n",
       "  <thead>\n",
       "    <tr style=\"text-align: right;\">\n",
       "      <th></th>\n",
       "      <th>Length</th>\n",
       "      <th>Diameter</th>\n",
       "      <th>Height</th>\n",
       "      <th>Weight</th>\n",
       "      <th>Shucked Weight</th>\n",
       "      <th>Viscera Weight</th>\n",
       "      <th>Shell Weight</th>\n",
       "      <th>Age</th>\n",
       "    </tr>\n",
       "  </thead>\n",
       "  <tbody>\n",
       "    <tr>\n",
       "      <th>count</th>\n",
       "      <td>3893.000000</td>\n",
       "      <td>3893.000000</td>\n",
       "      <td>3893.000000</td>\n",
       "      <td>3893.000000</td>\n",
       "      <td>3893.000000</td>\n",
       "      <td>3893.000000</td>\n",
       "      <td>3893.000000</td>\n",
       "      <td>3893.000000</td>\n",
       "    </tr>\n",
       "    <tr>\n",
       "      <th>mean</th>\n",
       "      <td>1.311306</td>\n",
       "      <td>1.020893</td>\n",
       "      <td>0.349464</td>\n",
       "      <td>23.567275</td>\n",
       "      <td>10.207342</td>\n",
       "      <td>5.136546</td>\n",
       "      <td>6.795844</td>\n",
       "      <td>9.954791</td>\n",
       "    </tr>\n",
       "    <tr>\n",
       "      <th>std</th>\n",
       "      <td>0.300431</td>\n",
       "      <td>0.248233</td>\n",
       "      <td>0.104751</td>\n",
       "      <td>13.891201</td>\n",
       "      <td>6.275275</td>\n",
       "      <td>3.104133</td>\n",
       "      <td>3.943392</td>\n",
       "      <td>3.220967</td>\n",
       "    </tr>\n",
       "    <tr>\n",
       "      <th>min</th>\n",
       "      <td>0.187500</td>\n",
       "      <td>0.137500</td>\n",
       "      <td>0.025000</td>\n",
       "      <td>0.056699</td>\n",
       "      <td>0.028349</td>\n",
       "      <td>0.014175</td>\n",
       "      <td>0.042524</td>\n",
       "      <td>1.000000</td>\n",
       "    </tr>\n",
       "    <tr>\n",
       "      <th>25%</th>\n",
       "      <td>1.125000</td>\n",
       "      <td>0.875000</td>\n",
       "      <td>0.287500</td>\n",
       "      <td>12.672227</td>\n",
       "      <td>5.343881</td>\n",
       "      <td>2.664853</td>\n",
       "      <td>3.713785</td>\n",
       "      <td>8.000000</td>\n",
       "    </tr>\n",
       "    <tr>\n",
       "      <th>50%</th>\n",
       "      <td>1.362500</td>\n",
       "      <td>1.062500</td>\n",
       "      <td>0.362500</td>\n",
       "      <td>22.792998</td>\n",
       "      <td>9.539607</td>\n",
       "      <td>4.861939</td>\n",
       "      <td>6.662133</td>\n",
       "      <td>10.000000</td>\n",
       "    </tr>\n",
       "    <tr>\n",
       "      <th>75%</th>\n",
       "      <td>1.537500</td>\n",
       "      <td>1.200000</td>\n",
       "      <td>0.412500</td>\n",
       "      <td>32.786197</td>\n",
       "      <td>14.273973</td>\n",
       "      <td>7.200773</td>\n",
       "      <td>9.355335</td>\n",
       "      <td>11.000000</td>\n",
       "    </tr>\n",
       "    <tr>\n",
       "      <th>max</th>\n",
       "      <td>2.037500</td>\n",
       "      <td>1.625000</td>\n",
       "      <td>2.825000</td>\n",
       "      <td>80.101512</td>\n",
       "      <td>42.184056</td>\n",
       "      <td>21.545620</td>\n",
       "      <td>28.491248</td>\n",
       "      <td>29.000000</td>\n",
       "    </tr>\n",
       "  </tbody>\n",
       "</table>\n",
       "</div>"
      ],
      "text/plain": [
       "            Length     Diameter       Height       Weight  Shucked Weight  \\\n",
       "count  3893.000000  3893.000000  3893.000000  3893.000000     3893.000000   \n",
       "mean      1.311306     1.020893     0.349464    23.567275       10.207342   \n",
       "std       0.300431     0.248233     0.104751    13.891201        6.275275   \n",
       "min       0.187500     0.137500     0.025000     0.056699        0.028349   \n",
       "25%       1.125000     0.875000     0.287500    12.672227        5.343881   \n",
       "50%       1.362500     1.062500     0.362500    22.792998        9.539607   \n",
       "75%       1.537500     1.200000     0.412500    32.786197       14.273973   \n",
       "max       2.037500     1.625000     2.825000    80.101512       42.184056   \n",
       "\n",
       "       Viscera Weight  Shell Weight          Age  \n",
       "count     3893.000000   3893.000000  3893.000000  \n",
       "mean         5.136546      6.795844     9.954791  \n",
       "std          3.104133      3.943392     3.220967  \n",
       "min          0.014175      0.042524     1.000000  \n",
       "25%          2.664853      3.713785     8.000000  \n",
       "50%          4.861939      6.662133    10.000000  \n",
       "75%          7.200773      9.355335    11.000000  \n",
       "max         21.545620     28.491248    29.000000  "
      ]
     },
     "execution_count": 14,
     "metadata": {},
     "output_type": "execute_result"
    }
   ],
   "source": [
    "data.describe()"
   ]
  },
  {
   "cell_type": "markdown",
   "metadata": {},
   "source": [
    "> Note que la desviación estándar de `Lenght`, `Diameter` y `Height` es muy baja en comparación con las otras variables.\n",
    "\n",
    "Recuerde!!! Que la desviación estándar es una medida de dispersión que nos induca qué tan dispersos están los datos con respecto a la media. Mientras mayor sea la desviación estándar, mayor será la dispersión de los datos.\n",
    "\n",
    "> Note que la media y el percentil del 50% (mediana) son aproxidamente iguales, podemos decir que nuestros datos conservcan una distribución más o menos simétrica.\n",
    "\n",
    "obs!! Veamos que min en `Height` es cero, tendria sentido ese valor pa nuestra predección?\n"
   ]
  },
  {
   "cell_type": "markdown",
   "metadata": {},
   "source": [
    "Obs!!!\n",
    "\n",
    "- Sesgo Positivo (a la derecha): La cola derecha es más larga.\n",
    "\n",
    "    > Si la media > mediana, entonces el sesgo es positivo.\n",
    "\n",
    "- Sesgo Negativo (a la izquierda): La cola izquierda es más larga.\n",
    "\n",
    "    > Si la media < mediana, entonces el sesgo es negativo.\n",
    "\n",
    "Lo podemos evidenciar en la siguiente figura.\n"
   ]
  },
  {
   "cell_type": "code",
   "execution_count": 15,
   "metadata": {},
   "outputs": [
    {
     "data": {
      "text/plain": [
       "<function matplotlib.pyplot.show(close=None, block=None)>"
      ]
     },
     "execution_count": 15,
     "metadata": {},
     "output_type": "execute_result"
    },
    {
     "data": {
      "image/png": "[encoded data removed]",
      "text/plain": [
       "<Figure size 1500x1000 with 9 Axes>"
      ]
     },
     "metadata": {},
     "output_type": "display_data"
    }
   ],
   "source": [
    "data.hist(bins = 30, color = \"Skyblue\",  figsize=(15, 10))\n",
    "plt.show"
   ]
  },
  {
   "cell_type": "markdown",
   "metadata": {},
   "source": [
    "**Calculamos el sesgo de cada columna**\n",
    "\n",
    "        - Cerca de 0: Simétrica.\n",
    "        - Positivo: Sesgo a la derecha.\n",
    "        - Negativo: Sesgo a la izquierda."
   ]
  },
  {
   "cell_type": "code",
   "execution_count": 21,
   "metadata": {},
   "outputs": [
    {
     "name": "stdout",
     "output_type": "stream",
     "text": [
      "Length: -0.65086\n",
      "Diameter: -0.61716\n",
      "Height: 3.34858\n",
      "Weight: 0.51870\n",
      "Shucked Weight: 0.70284\n",
      "Viscera Weight: 0.57807\n",
      "Shell Weight: 0.60748\n",
      "Age: 1.10428\n"
     ]
    }
   ],
   "source": [
    "# Cálculo del sesgo estadístico\n",
    "\n",
    "from scipy.stats import skew\n",
    "\n",
    "sesgo = skew(data_copy)\n",
    "columns = data_copy.columns\n",
    "\n",
    "\n",
    "for i in range(0, len(sesgo)):\n",
    "    print(f\"{columns[i]}: {sesgo[i]:.5f}\")\n"
   ]
  },
  {
   "cell_type": "markdown",
   "metadata": {},
   "source": [
    "# Variables categóricas\n",
    "\n",
    "> Solo tenemos una variable categórica que corresponde a `Sex`"
   ]
  },
  {
   "cell_type": "code",
   "execution_count": 22,
   "metadata": {},
   "outputs": [
    {
     "data": {
      "text/html": [
       "<div>\n",
       "<style scoped>\n",
       "    .dataframe tbody tr th:only-of-type {\n",
       "        vertical-align: middle;\n",
       "    }\n",
       "\n",
       "    .dataframe tbody tr th {\n",
       "        vertical-align: top;\n",
       "    }\n",
       "\n",
       "    .dataframe thead th {\n",
       "        text-align: right;\n",
       "    }\n",
       "</style>\n",
       "<table border=\"1\" class=\"dataframe\">\n",
       "  <thead>\n",
       "    <tr style=\"text-align: right;\">\n",
       "      <th></th>\n",
       "      <th>Sex</th>\n",
       "    </tr>\n",
       "  </thead>\n",
       "  <tbody>\n",
       "    <tr>\n",
       "      <th>count</th>\n",
       "      <td>3893</td>\n",
       "    </tr>\n",
       "    <tr>\n",
       "      <th>unique</th>\n",
       "      <td>3</td>\n",
       "    </tr>\n",
       "    <tr>\n",
       "      <th>top</th>\n",
       "      <td>M</td>\n",
       "    </tr>\n",
       "    <tr>\n",
       "      <th>freq</th>\n",
       "      <td>1435</td>\n",
       "    </tr>\n",
       "  </tbody>\n",
       "</table>\n",
       "</div>"
      ],
      "text/plain": [
       "         Sex\n",
       "count   3893\n",
       "unique     3\n",
       "top        M\n",
       "freq    1435"
      ]
     },
     "execution_count": 22,
     "metadata": {},
     "output_type": "execute_result"
    }
   ],
   "source": [
    "data.describe(include = object)"
   ]
  },
  {
   "cell_type": "markdown",
   "metadata": {},
   "source": [
    "Mostremos las diferentes cantidades de cada tipo de sexo en cangrejos"
   ]
  },
  {
   "cell_type": "code",
   "execution_count": 23,
   "metadata": {},
   "outputs": [
    {
     "data": {
      "image/png": "[encoded data removed]",
      "text/plain": [
       "<Figure size 640x480 with 1 Axes>"
      ]
     },
     "metadata": {},
     "output_type": "display_data"
    }
   ],
   "source": [
    "from collections import Counter # para que nos obtenga las distintas catergorias y el número total de cada una\n",
    "\n",
    "\n",
    "counts = Counter(data[\"Sex\"]) # Nos devuelve un diccionario\n",
    "categories  = list(counts.keys())\n",
    "frequencies = list(counts.values())\n",
    "\n",
    "plt.bar(categories, frequencies, color = \"Skyblue\", edgecolor = \"black\")\n",
    "\n",
    "for i, freq in enumerate(frequencies):\n",
    "    plt.text(i, freq + 0.2, str(freq), ha = \"center\", va = \"bottom\")\n",
    "\n",
    "\n",
    "plt.title(\"Frecuencia de cada Sexo\")\n",
    "plt.xlabel(\"Categorías\")\n",
    "plt.ylabel(\"Frecuencia\")\n",
    "\n",
    "plt.show()\n"
   ]
  },
  {
   "cell_type": "markdown",
   "metadata": {},
   "source": [
    "> Notemos que hay más cangrejos de sexo masculino.\n",
    "\n",
    "> En cambio en femenino e indeterminado tenemos aproxidamente la misma proporción."
   ]
  },
  {
   "cell_type": "markdown",
   "metadata": {},
   "source": [
    "# Análisis y Tratamiento de Valores Atípicos"
   ]
  },
  {
   "cell_type": "code",
   "execution_count": null,
   "metadata": {},
   "outputs": [],
   "source": []
  },
  {
   "cell_type": "markdown",
   "metadata": {},
   "source": [
    "# Correlaciones"
   ]
  },
  {
   "cell_type": "markdown",
   "metadata": {},
   "source": [
    "### Vamos a crear una tabla de correlaciones entre las variables númericas"
   ]
  },
  {
   "cell_type": "code",
   "execution_count": 24,
   "metadata": {},
   "outputs": [
    {
     "data": {
      "text/html": [
       "<div>\n",
       "<style scoped>\n",
       "    .dataframe tbody tr th:only-of-type {\n",
       "        vertical-align: middle;\n",
       "    }\n",
       "\n",
       "    .dataframe tbody tr th {\n",
       "        vertical-align: top;\n",
       "    }\n",
       "\n",
       "    .dataframe thead th {\n",
       "        text-align: right;\n",
       "    }\n",
       "</style>\n",
       "<table border=\"1\" class=\"dataframe\">\n",
       "  <thead>\n",
       "    <tr style=\"text-align: right;\">\n",
       "      <th></th>\n",
       "      <th>Length</th>\n",
       "      <th>Diameter</th>\n",
       "      <th>Height</th>\n",
       "      <th>Weight</th>\n",
       "      <th>Shucked Weight</th>\n",
       "      <th>Viscera Weight</th>\n",
       "      <th>Shell Weight</th>\n",
       "      <th>Age</th>\n",
       "    </tr>\n",
       "  </thead>\n",
       "  <tbody>\n",
       "    <tr>\n",
       "      <th>Length</th>\n",
       "      <td>1.000000</td>\n",
       "      <td>0.986653</td>\n",
       "      <td>0.823748</td>\n",
       "      <td>0.925374</td>\n",
       "      <td>0.898181</td>\n",
       "      <td>0.903253</td>\n",
       "      <td>0.897736</td>\n",
       "      <td>0.554973</td>\n",
       "    </tr>\n",
       "    <tr>\n",
       "      <th>Diameter</th>\n",
       "      <td>0.986653</td>\n",
       "      <td>1.000000</td>\n",
       "      <td>0.830230</td>\n",
       "      <td>0.925770</td>\n",
       "      <td>0.893626</td>\n",
       "      <td>0.899810</td>\n",
       "      <td>0.905561</td>\n",
       "      <td>0.573844</td>\n",
       "    </tr>\n",
       "    <tr>\n",
       "      <th>Height</th>\n",
       "      <td>0.823748</td>\n",
       "      <td>0.830230</td>\n",
       "      <td>1.000000</td>\n",
       "      <td>0.815180</td>\n",
       "      <td>0.771722</td>\n",
       "      <td>0.793995</td>\n",
       "      <td>0.814012</td>\n",
       "      <td>0.552345</td>\n",
       "    </tr>\n",
       "    <tr>\n",
       "      <th>Weight</th>\n",
       "      <td>0.925374</td>\n",
       "      <td>0.925770</td>\n",
       "      <td>0.815180</td>\n",
       "      <td>1.000000</td>\n",
       "      <td>0.969077</td>\n",
       "      <td>0.965583</td>\n",
       "      <td>0.955269</td>\n",
       "      <td>0.538819</td>\n",
       "    </tr>\n",
       "    <tr>\n",
       "      <th>Shucked Weight</th>\n",
       "      <td>0.898181</td>\n",
       "      <td>0.893626</td>\n",
       "      <td>0.771722</td>\n",
       "      <td>0.969077</td>\n",
       "      <td>1.000000</td>\n",
       "      <td>0.931280</td>\n",
       "      <td>0.882406</td>\n",
       "      <td>0.418760</td>\n",
       "    </tr>\n",
       "    <tr>\n",
       "      <th>Viscera Weight</th>\n",
       "      <td>0.903253</td>\n",
       "      <td>0.899810</td>\n",
       "      <td>0.793995</td>\n",
       "      <td>0.965583</td>\n",
       "      <td>0.931280</td>\n",
       "      <td>1.000000</td>\n",
       "      <td>0.906105</td>\n",
       "      <td>0.501328</td>\n",
       "    </tr>\n",
       "    <tr>\n",
       "      <th>Shell Weight</th>\n",
       "      <td>0.897736</td>\n",
       "      <td>0.905561</td>\n",
       "      <td>0.814012</td>\n",
       "      <td>0.955269</td>\n",
       "      <td>0.882406</td>\n",
       "      <td>0.906105</td>\n",
       "      <td>1.000000</td>\n",
       "      <td>0.625195</td>\n",
       "    </tr>\n",
       "    <tr>\n",
       "      <th>Age</th>\n",
       "      <td>0.554973</td>\n",
       "      <td>0.573844</td>\n",
       "      <td>0.552345</td>\n",
       "      <td>0.538819</td>\n",
       "      <td>0.418760</td>\n",
       "      <td>0.501328</td>\n",
       "      <td>0.625195</td>\n",
       "      <td>1.000000</td>\n",
       "    </tr>\n",
       "  </tbody>\n",
       "</table>\n",
       "</div>"
      ],
      "text/plain": [
       "                  Length  Diameter    Height    Weight  Shucked Weight  \\\n",
       "Length          1.000000  0.986653  0.823748  0.925374        0.898181   \n",
       "Diameter        0.986653  1.000000  0.830230  0.925770        0.893626   \n",
       "Height          0.823748  0.830230  1.000000  0.815180        0.771722   \n",
       "Weight          0.925374  0.925770  0.815180  1.000000        0.969077   \n",
       "Shucked Weight  0.898181  0.893626  0.771722  0.969077        1.000000   \n",
       "Viscera Weight  0.903253  0.899810  0.793995  0.965583        0.931280   \n",
       "Shell Weight    0.897736  0.905561  0.814012  0.955269        0.882406   \n",
       "Age             0.554973  0.573844  0.552345  0.538819        0.418760   \n",
       "\n",
       "                Viscera Weight  Shell Weight       Age  \n",
       "Length                0.903253      0.897736  0.554973  \n",
       "Diameter              0.899810      0.905561  0.573844  \n",
       "Height                0.793995      0.814012  0.552345  \n",
       "Weight                0.965583      0.955269  0.538819  \n",
       "Shucked Weight        0.931280      0.882406  0.418760  \n",
       "Viscera Weight        1.000000      0.906105  0.501328  \n",
       "Shell Weight          0.906105      1.000000  0.625195  \n",
       "Age                   0.501328      0.625195  1.000000  "
      ]
     },
     "execution_count": 24,
     "metadata": {},
     "output_type": "execute_result"
    }
   ],
   "source": [
    "# No es necesario, con un mapa de calor estaria bien\n",
    "data_copy = data.drop(columns=[\"Sex\"])\n",
    "data_copy.corr()"
   ]
  },
  {
   "cell_type": "markdown",
   "metadata": {},
   "source": [
    "### Para visualizar mejor la información, vamos a crear un mapa de calor"
   ]
  },
  {
   "cell_type": "code",
   "execution_count": 25,
   "metadata": {},
   "outputs": [
    {
     "data": {
      "text/plain": [
       "<Axes: >"
      ]
     },
     "execution_count": 25,
     "metadata": {},
     "output_type": "execute_result"
    },
    {
     "data": {
      "image/png": "[encoded data removed]",
      "text/plain": [
       "<Figure size 640x480 with 2 Axes>"
      ]
     },
     "metadata": {},
     "output_type": "display_data"
    }
   ],
   "source": [
    "sns.heatmap(data_copy.corr(method=\"pearson\"), annot = True ) # por defecto el metodo de corr() es pearson"
   ]
  },
  {
   "cell_type": "markdown",
   "metadata": {},
   "source": [
    "Note que las variables que tienen más correlación con nuestra variable objetivo `Age` son:\n",
    "        \n",
    "        • Shell Weight\n",
    "        • Diameter\n",
    "        • Height\n",
    "        • Lenght\n",
    "        • Weight\n",
    "        • Viscera Weight\n",
    "\n",
    "Note que hay variables que tienen una correlación muy alta respecto a las otras variables, por ejemplo algunas son: \n",
    "\n",
    "        • length\n",
    "        • Diameter\n",
    "\n",
    "Al que estas varibles tenga una correlación tan cercana a `1` (una correlación positiva), nos indica que entre más aumente una variable la otra tambien va a crecer ya que tienen una correlación alta. Ejemplo, entre más diametro tenga va a ser más largo el cangrejo.\n",
    "\n",
    "\n"
   ]
  },
  {
   "cell_type": "markdown",
   "metadata": {},
   "source": [
    "### Vamos a comparar nuestra variable objetivo (Age) con la distintas varaibles presentes en el Dataset"
   ]
  },
  {
   "cell_type": "code",
   "execution_count": 26,
   "metadata": {},
   "outputs": [
    {
     "data": {
      "image/png": "[encoded data removed]",
      "text/plain": [
       "<Figure size 800x800 with 7 Axes>"
      ]
     },
     "metadata": {},
     "output_type": "display_data"
    }
   ],
   "source": [
    "fig, axis = plt.subplots(3, 3, figsize = (8, 8))\n",
    "\n",
    "#Crear un diagrama de dispersión multiple\n",
    "sns.regplot(ax = axis[0,0], data = data, x = \"Length\", y = \"Age\")\n",
    "sns.regplot(ax = axis[0,1], data = data, x = \"Height\", y = \"Age\").set(ylabel = None)\n",
    "sns.regplot(ax = axis[0,2], data = data , x = \"Diameter\", y = \"Age\").set(ylabel = None)\n",
    "sns.regplot(ax = axis[1,0], data = data, x = \"Weight\", y = \"Age\")\n",
    "sns.regplot(ax = axis[1,1], data = data, x = \"Shucked Weight\", y = \"Age\").set(ylabel = None)\n",
    "sns.regplot(ax = axis[1,2], data = data, x = \"Viscera Weight\", y = \"Age\").set(ylabel = None)\n",
    "sns.regplot(ax = axis[2,0], data = data, x = \"Shell Weight\", y = \"Age\")\n",
    "\n",
    "#Ajustar el layout\n",
    "plt.tight_layout()\n",
    "plt.delaxes(axis[2,1])\n",
    "plt.delaxes(axis[2,2])\n",
    "\n",
    "#Mostrar el plot\n",
    "plt.show()"
   ]
  },
  {
   "cell_type": "markdown",
   "metadata": {},
   "source": [
    "> Observemos que la correspondencia entre las variables númericas de los cangrejos respecto a la variable objetivo (Age) es `lineal`.\n",
    "\n",
    "> Esto es, que a medida que la variable del X aumenta, la variable del eje Y (Age) también aumenta, no necesariamente con todas las variables.\n",
    "\n",
    "> A excepción de la variable `height`, ya que no aumenta tanto en el eje X pero si en el eje Y.\n",
    "\n",
    "> Las ultimas cuatro graficas no son tan lineales"
   ]
  },
  {
   "cell_type": "markdown",
   "metadata": {},
   "source": [
    "### Detallemos más de cerca que esta pasando con Weight respecto a Age"
   ]
  },
  {
   "cell_type": "code",
   "execution_count": 27,
   "metadata": {},
   "outputs": [
    {
     "data": {
      "image/png": "[encoded data removed]",
      "text/plain": [
       "<Figure size 640x480 with 1 Axes>"
      ]
     },
     "metadata": {},
     "output_type": "display_data"
    }
   ],
   "source": [
    "sns.scatterplot(x='Height', y='Age', data=data)\n",
    "plt.title(\"Peso vs Age\")\n",
    "plt.show()"
   ]
  },
  {
   "cell_type": "markdown",
   "metadata": {},
   "source": [
    "> No necesariamente entre más altura tenga el cangrejo mayor va a ser su edad."
   ]
  },
  {
   "cell_type": "markdown",
   "metadata": {},
   "source": [
    "# **Preparacion de Datos**"
   ]
  },
  {
   "cell_type": "markdown",
   "metadata": {},
   "source": [
    "# One Hot Encoding\n",
    "\n",
    "> Nuestra variable categorica `Sex` vamos a darle valores numéricos, para esto vamos a utilizar `one hot encoding`"
   ]
  },
  {
   "cell_type": "code",
   "execution_count": 28,
   "metadata": {},
   "outputs": [],
   "source": [
    "from sklearn.preprocessing import OneHotEncoder"
   ]
  },
  {
   "cell_type": "code",
   "execution_count": 29,
   "metadata": {},
   "outputs": [],
   "source": [
    "encoder = OneHotEncoder(sparse_output = False)"
   ]
  },
  {
   "cell_type": "code",
   "execution_count": 30,
   "metadata": {},
   "outputs": [
    {
     "data": {
      "text/plain": [
       "array([[1., 0., 0.],\n",
       "       [0., 0., 1.],\n",
       "       [0., 1., 0.],\n",
       "       ...,\n",
       "       [0., 1., 0.],\n",
       "       [0., 1., 0.],\n",
       "       [0., 1., 0.]], shape=(3893, 3))"
      ]
     },
     "execution_count": 30,
     "metadata": {},
     "output_type": "execute_result"
    }
   ],
   "source": [
    "encoded_data = encoder.fit_transform(data[[\"Sex\"]])\n",
    "encoded_data"
   ]
  },
  {
   "cell_type": "code",
   "execution_count": 31,
   "metadata": {},
   "outputs": [
    {
     "data": {
      "text/html": [
       "<div>\n",
       "<style scoped>\n",
       "    .dataframe tbody tr th:only-of-type {\n",
       "        vertical-align: middle;\n",
       "    }\n",
       "\n",
       "    .dataframe tbody tr th {\n",
       "        vertical-align: top;\n",
       "    }\n",
       "\n",
       "    .dataframe thead th {\n",
       "        text-align: right;\n",
       "    }\n",
       "</style>\n",
       "<table border=\"1\" class=\"dataframe\">\n",
       "  <thead>\n",
       "    <tr style=\"text-align: right;\">\n",
       "      <th></th>\n",
       "      <th>Sex_F</th>\n",
       "      <th>Sex_I</th>\n",
       "      <th>Sex_M</th>\n",
       "    </tr>\n",
       "  </thead>\n",
       "  <tbody>\n",
       "    <tr>\n",
       "      <th>0</th>\n",
       "      <td>1.0</td>\n",
       "      <td>0.0</td>\n",
       "      <td>0.0</td>\n",
       "    </tr>\n",
       "    <tr>\n",
       "      <th>1</th>\n",
       "      <td>0.0</td>\n",
       "      <td>0.0</td>\n",
       "      <td>1.0</td>\n",
       "    </tr>\n",
       "    <tr>\n",
       "      <th>2</th>\n",
       "      <td>0.0</td>\n",
       "      <td>1.0</td>\n",
       "      <td>0.0</td>\n",
       "    </tr>\n",
       "    <tr>\n",
       "      <th>3</th>\n",
       "      <td>1.0</td>\n",
       "      <td>0.0</td>\n",
       "      <td>0.0</td>\n",
       "    </tr>\n",
       "    <tr>\n",
       "      <th>4</th>\n",
       "      <td>0.0</td>\n",
       "      <td>1.0</td>\n",
       "      <td>0.0</td>\n",
       "    </tr>\n",
       "    <tr>\n",
       "      <th>...</th>\n",
       "      <td>...</td>\n",
       "      <td>...</td>\n",
       "      <td>...</td>\n",
       "    </tr>\n",
       "    <tr>\n",
       "      <th>3888</th>\n",
       "      <td>1.0</td>\n",
       "      <td>0.0</td>\n",
       "      <td>0.0</td>\n",
       "    </tr>\n",
       "    <tr>\n",
       "      <th>3889</th>\n",
       "      <td>1.0</td>\n",
       "      <td>0.0</td>\n",
       "      <td>0.0</td>\n",
       "    </tr>\n",
       "    <tr>\n",
       "      <th>3890</th>\n",
       "      <td>0.0</td>\n",
       "      <td>1.0</td>\n",
       "      <td>0.0</td>\n",
       "    </tr>\n",
       "    <tr>\n",
       "      <th>3891</th>\n",
       "      <td>0.0</td>\n",
       "      <td>1.0</td>\n",
       "      <td>0.0</td>\n",
       "    </tr>\n",
       "    <tr>\n",
       "      <th>3892</th>\n",
       "      <td>0.0</td>\n",
       "      <td>1.0</td>\n",
       "      <td>0.0</td>\n",
       "    </tr>\n",
       "  </tbody>\n",
       "</table>\n",
       "<p>3893 rows × 3 columns</p>\n",
       "</div>"
      ],
      "text/plain": [
       "      Sex_F  Sex_I  Sex_M\n",
       "0       1.0    0.0    0.0\n",
       "1       0.0    0.0    1.0\n",
       "2       0.0    1.0    0.0\n",
       "3       1.0    0.0    0.0\n",
       "4       0.0    1.0    0.0\n",
       "...     ...    ...    ...\n",
       "3888    1.0    0.0    0.0\n",
       "3889    1.0    0.0    0.0\n",
       "3890    0.0    1.0    0.0\n",
       "3891    0.0    1.0    0.0\n",
       "3892    0.0    1.0    0.0\n",
       "\n",
       "[3893 rows x 3 columns]"
      ]
     },
     "execution_count": 31,
     "metadata": {},
     "output_type": "execute_result"
    }
   ],
   "source": [
    "encoded_df = pd.DataFrame(encoded_data, columns=encoder.get_feature_names_out([\"Sex\"]))\n",
    "encoded_df"
   ]
  },
  {
   "cell_type": "code",
   "execution_count": 32,
   "metadata": {},
   "outputs": [
    {
     "data": {
      "text/html": [
       "<div>\n",
       "<style scoped>\n",
       "    .dataframe tbody tr th:only-of-type {\n",
       "        vertical-align: middle;\n",
       "    }\n",
       "\n",
       "    .dataframe tbody tr th {\n",
       "        vertical-align: top;\n",
       "    }\n",
       "\n",
       "    .dataframe thead th {\n",
       "        text-align: right;\n",
       "    }\n",
       "</style>\n",
       "<table border=\"1\" class=\"dataframe\">\n",
       "  <thead>\n",
       "    <tr style=\"text-align: right;\">\n",
       "      <th></th>\n",
       "      <th>Length</th>\n",
       "      <th>Diameter</th>\n",
       "      <th>Height</th>\n",
       "      <th>Weight</th>\n",
       "      <th>Shucked Weight</th>\n",
       "      <th>Viscera Weight</th>\n",
       "      <th>Shell Weight</th>\n",
       "      <th>Age</th>\n",
       "      <th>Sex_F</th>\n",
       "      <th>Sex_I</th>\n",
       "      <th>Sex_M</th>\n",
       "    </tr>\n",
       "  </thead>\n",
       "  <tbody>\n",
       "    <tr>\n",
       "      <th>0</th>\n",
       "      <td>1.4375</td>\n",
       "      <td>1.1750</td>\n",
       "      <td>0.4125</td>\n",
       "      <td>24.635715</td>\n",
       "      <td>12.332033</td>\n",
       "      <td>5.584852</td>\n",
       "      <td>6.747181</td>\n",
       "      <td>9</td>\n",
       "      <td>1.0</td>\n",
       "      <td>0.0</td>\n",
       "      <td>0.0</td>\n",
       "    </tr>\n",
       "    <tr>\n",
       "      <th>1</th>\n",
       "      <td>0.8875</td>\n",
       "      <td>0.6500</td>\n",
       "      <td>0.2125</td>\n",
       "      <td>5.400580</td>\n",
       "      <td>2.296310</td>\n",
       "      <td>1.374951</td>\n",
       "      <td>1.559222</td>\n",
       "      <td>6</td>\n",
       "      <td>0.0</td>\n",
       "      <td>0.0</td>\n",
       "      <td>1.0</td>\n",
       "    </tr>\n",
       "    <tr>\n",
       "      <th>2</th>\n",
       "      <td>1.0375</td>\n",
       "      <td>0.7750</td>\n",
       "      <td>0.2500</td>\n",
       "      <td>7.952035</td>\n",
       "      <td>3.231843</td>\n",
       "      <td>1.601747</td>\n",
       "      <td>2.764076</td>\n",
       "      <td>6</td>\n",
       "      <td>0.0</td>\n",
       "      <td>1.0</td>\n",
       "      <td>0.0</td>\n",
       "    </tr>\n",
       "    <tr>\n",
       "      <th>3</th>\n",
       "      <td>1.1750</td>\n",
       "      <td>0.8875</td>\n",
       "      <td>0.2500</td>\n",
       "      <td>13.480187</td>\n",
       "      <td>4.748541</td>\n",
       "      <td>2.282135</td>\n",
       "      <td>5.244657</td>\n",
       "      <td>10</td>\n",
       "      <td>1.0</td>\n",
       "      <td>0.0</td>\n",
       "      <td>0.0</td>\n",
       "    </tr>\n",
       "    <tr>\n",
       "      <th>4</th>\n",
       "      <td>0.8875</td>\n",
       "      <td>0.6625</td>\n",
       "      <td>0.2125</td>\n",
       "      <td>6.903103</td>\n",
       "      <td>3.458639</td>\n",
       "      <td>1.488349</td>\n",
       "      <td>1.700970</td>\n",
       "      <td>6</td>\n",
       "      <td>0.0</td>\n",
       "      <td>1.0</td>\n",
       "      <td>0.0</td>\n",
       "    </tr>\n",
       "    <tr>\n",
       "      <th>...</th>\n",
       "      <td>...</td>\n",
       "      <td>...</td>\n",
       "      <td>...</td>\n",
       "      <td>...</td>\n",
       "      <td>...</td>\n",
       "      <td>...</td>\n",
       "      <td>...</td>\n",
       "      <td>...</td>\n",
       "      <td>...</td>\n",
       "      <td>...</td>\n",
       "      <td>...</td>\n",
       "    </tr>\n",
       "    <tr>\n",
       "      <th>3888</th>\n",
       "      <td>1.4625</td>\n",
       "      <td>1.1375</td>\n",
       "      <td>0.3250</td>\n",
       "      <td>24.819987</td>\n",
       "      <td>11.651644</td>\n",
       "      <td>5.854172</td>\n",
       "      <td>6.378637</td>\n",
       "      <td>8</td>\n",
       "      <td>1.0</td>\n",
       "      <td>0.0</td>\n",
       "      <td>0.0</td>\n",
       "    </tr>\n",
       "    <tr>\n",
       "      <th>3889</th>\n",
       "      <td>1.5500</td>\n",
       "      <td>1.2125</td>\n",
       "      <td>0.4375</td>\n",
       "      <td>34.458817</td>\n",
       "      <td>15.450477</td>\n",
       "      <td>7.172423</td>\n",
       "      <td>9.780577</td>\n",
       "      <td>10</td>\n",
       "      <td>1.0</td>\n",
       "      <td>0.0</td>\n",
       "      <td>0.0</td>\n",
       "    </tr>\n",
       "    <tr>\n",
       "      <th>3890</th>\n",
       "      <td>0.6250</td>\n",
       "      <td>0.4625</td>\n",
       "      <td>0.1625</td>\n",
       "      <td>2.012815</td>\n",
       "      <td>0.765436</td>\n",
       "      <td>0.524466</td>\n",
       "      <td>0.637864</td>\n",
       "      <td>5</td>\n",
       "      <td>0.0</td>\n",
       "      <td>1.0</td>\n",
       "      <td>0.0</td>\n",
       "    </tr>\n",
       "    <tr>\n",
       "      <th>3891</th>\n",
       "      <td>1.0625</td>\n",
       "      <td>0.7750</td>\n",
       "      <td>0.2625</td>\n",
       "      <td>10.347568</td>\n",
       "      <td>4.507570</td>\n",
       "      <td>2.338834</td>\n",
       "      <td>2.976698</td>\n",
       "      <td>6</td>\n",
       "      <td>0.0</td>\n",
       "      <td>1.0</td>\n",
       "      <td>0.0</td>\n",
       "    </tr>\n",
       "    <tr>\n",
       "      <th>3892</th>\n",
       "      <td>0.7875</td>\n",
       "      <td>0.6125</td>\n",
       "      <td>0.2125</td>\n",
       "      <td>4.068153</td>\n",
       "      <td>1.502523</td>\n",
       "      <td>1.346601</td>\n",
       "      <td>1.417475</td>\n",
       "      <td>8</td>\n",
       "      <td>0.0</td>\n",
       "      <td>1.0</td>\n",
       "      <td>0.0</td>\n",
       "    </tr>\n",
       "  </tbody>\n",
       "</table>\n",
       "<p>3893 rows × 11 columns</p>\n",
       "</div>"
      ],
      "text/plain": [
       "      Length  Diameter  Height     Weight  Shucked Weight  Viscera Weight  \\\n",
       "0     1.4375    1.1750  0.4125  24.635715       12.332033        5.584852   \n",
       "1     0.8875    0.6500  0.2125   5.400580        2.296310        1.374951   \n",
       "2     1.0375    0.7750  0.2500   7.952035        3.231843        1.601747   \n",
       "3     1.1750    0.8875  0.2500  13.480187        4.748541        2.282135   \n",
       "4     0.8875    0.6625  0.2125   6.903103        3.458639        1.488349   \n",
       "...      ...       ...     ...        ...             ...             ...   \n",
       "3888  1.4625    1.1375  0.3250  24.819987       11.651644        5.854172   \n",
       "3889  1.5500    1.2125  0.4375  34.458817       15.450477        7.172423   \n",
       "3890  0.6250    0.4625  0.1625   2.012815        0.765436        0.524466   \n",
       "3891  1.0625    0.7750  0.2625  10.347568        4.507570        2.338834   \n",
       "3892  0.7875    0.6125  0.2125   4.068153        1.502523        1.346601   \n",
       "\n",
       "      Shell Weight  Age  Sex_F  Sex_I  Sex_M  \n",
       "0         6.747181    9    1.0    0.0    0.0  \n",
       "1         1.559222    6    0.0    0.0    1.0  \n",
       "2         2.764076    6    0.0    1.0    0.0  \n",
       "3         5.244657   10    1.0    0.0    0.0  \n",
       "4         1.700970    6    0.0    1.0    0.0  \n",
       "...            ...  ...    ...    ...    ...  \n",
       "3888      6.378637    8    1.0    0.0    0.0  \n",
       "3889      9.780577   10    1.0    0.0    0.0  \n",
       "3890      0.637864    5    0.0    1.0    0.0  \n",
       "3891      2.976698    6    0.0    1.0    0.0  \n",
       "3892      1.417475    8    0.0    1.0    0.0  \n",
       "\n",
       "[3893 rows x 11 columns]"
      ]
     },
     "execution_count": 32,
     "metadata": {},
     "output_type": "execute_result"
    }
   ],
   "source": [
    "data = pd.concat([data, encoded_df], axis=1)\n",
    "\n",
    "data.drop(\"Sex\", axis = 1, inplace=True)\n",
    "data"
   ]
  },
  {
   "cell_type": "code",
   "execution_count": 33,
   "metadata": {},
   "outputs": [],
   "source": [
    "df_clear = data"
   ]
  },
  {
   "cell_type": "code",
   "execution_count": 34,
   "metadata": {},
   "outputs": [],
   "source": [
    "df_clear.to_csv(\"D:/DataSets/CrabAge/data_clear.csv\")"
   ]
  },
  {
   "cell_type": "code",
   "execution_count": 35,
   "metadata": {},
   "outputs": [
    {
     "data": {
      "text/html": [
       "<div>\n",
       "<style scoped>\n",
       "    .dataframe tbody tr th:only-of-type {\n",
       "        vertical-align: middle;\n",
       "    }\n",
       "\n",
       "    .dataframe tbody tr th {\n",
       "        vertical-align: top;\n",
       "    }\n",
       "\n",
       "    .dataframe thead th {\n",
       "        text-align: right;\n",
       "    }\n",
       "</style>\n",
       "<table border=\"1\" class=\"dataframe\">\n",
       "  <thead>\n",
       "    <tr style=\"text-align: right;\">\n",
       "      <th></th>\n",
       "      <th>Length</th>\n",
       "      <th>Diameter</th>\n",
       "      <th>Height</th>\n",
       "      <th>Weight</th>\n",
       "      <th>Shucked Weight</th>\n",
       "      <th>Viscera Weight</th>\n",
       "      <th>Shell Weight</th>\n",
       "      <th>Age</th>\n",
       "      <th>Sex_F</th>\n",
       "      <th>Sex_I</th>\n",
       "      <th>Sex_M</th>\n",
       "    </tr>\n",
       "  </thead>\n",
       "  <tbody>\n",
       "    <tr>\n",
       "      <th>0</th>\n",
       "      <td>1.4375</td>\n",
       "      <td>1.1750</td>\n",
       "      <td>0.4125</td>\n",
       "      <td>24.635715</td>\n",
       "      <td>12.332033</td>\n",
       "      <td>5.584852</td>\n",
       "      <td>6.747181</td>\n",
       "      <td>9</td>\n",
       "      <td>1.0</td>\n",
       "      <td>0.0</td>\n",
       "      <td>0.0</td>\n",
       "    </tr>\n",
       "    <tr>\n",
       "      <th>1</th>\n",
       "      <td>0.8875</td>\n",
       "      <td>0.6500</td>\n",
       "      <td>0.2125</td>\n",
       "      <td>5.400580</td>\n",
       "      <td>2.296310</td>\n",
       "      <td>1.374951</td>\n",
       "      <td>1.559222</td>\n",
       "      <td>6</td>\n",
       "      <td>0.0</td>\n",
       "      <td>0.0</td>\n",
       "      <td>1.0</td>\n",
       "    </tr>\n",
       "    <tr>\n",
       "      <th>2</th>\n",
       "      <td>1.0375</td>\n",
       "      <td>0.7750</td>\n",
       "      <td>0.2500</td>\n",
       "      <td>7.952035</td>\n",
       "      <td>3.231843</td>\n",
       "      <td>1.601747</td>\n",
       "      <td>2.764076</td>\n",
       "      <td>6</td>\n",
       "      <td>0.0</td>\n",
       "      <td>1.0</td>\n",
       "      <td>0.0</td>\n",
       "    </tr>\n",
       "    <tr>\n",
       "      <th>3</th>\n",
       "      <td>1.1750</td>\n",
       "      <td>0.8875</td>\n",
       "      <td>0.2500</td>\n",
       "      <td>13.480187</td>\n",
       "      <td>4.748541</td>\n",
       "      <td>2.282135</td>\n",
       "      <td>5.244657</td>\n",
       "      <td>10</td>\n",
       "      <td>1.0</td>\n",
       "      <td>0.0</td>\n",
       "      <td>0.0</td>\n",
       "    </tr>\n",
       "    <tr>\n",
       "      <th>4</th>\n",
       "      <td>0.8875</td>\n",
       "      <td>0.6625</td>\n",
       "      <td>0.2125</td>\n",
       "      <td>6.903103</td>\n",
       "      <td>3.458639</td>\n",
       "      <td>1.488349</td>\n",
       "      <td>1.700970</td>\n",
       "      <td>6</td>\n",
       "      <td>0.0</td>\n",
       "      <td>1.0</td>\n",
       "      <td>0.0</td>\n",
       "    </tr>\n",
       "  </tbody>\n",
       "</table>\n",
       "</div>"
      ],
      "text/plain": [
       "   Length  Diameter  Height     Weight  Shucked Weight  Viscera Weight  \\\n",
       "0  1.4375    1.1750  0.4125  24.635715       12.332033        5.584852   \n",
       "1  0.8875    0.6500  0.2125   5.400580        2.296310        1.374951   \n",
       "2  1.0375    0.7750  0.2500   7.952035        3.231843        1.601747   \n",
       "3  1.1750    0.8875  0.2500  13.480187        4.748541        2.282135   \n",
       "4  0.8875    0.6625  0.2125   6.903103        3.458639        1.488349   \n",
       "\n",
       "   Shell Weight  Age  Sex_F  Sex_I  Sex_M  \n",
       "0      6.747181    9    1.0    0.0    0.0  \n",
       "1      1.559222    6    0.0    0.0    1.0  \n",
       "2      2.764076    6    0.0    1.0    0.0  \n",
       "3      5.244657   10    1.0    0.0    0.0  \n",
       "4      1.700970    6    0.0    1.0    0.0  "
      ]
     },
     "execution_count": 35,
     "metadata": {},
     "output_type": "execute_result"
    }
   ],
   "source": [
    "df_clear.head()"
   ]
  },
  {
   "cell_type": "markdown",
   "metadata": {},
   "source": [
    "# Modelado"
   ]
  },
  {
   "cell_type": "code",
   "execution_count": null,
   "metadata": {},
   "outputs": [],
   "source": []
  },
  {
   "cell_type": "markdown",
   "metadata": {
    "tags": []
   },
   "source": [
    "# Validación"
   ]
  },
  {
   "cell_type": "code",
   "execution_count": null,
   "metadata": {},
   "outputs": [],
   "source": []
  },
  {
   "cell_type": "markdown",
   "metadata": {
    "tags": []
   },
   "source": [
    "# Despliegue"
   ]
  },
  {
   "cell_type": "code",
   "execution_count": null,
   "metadata": {},
   "outputs": [],
   "source": []
  }
 ],
 "metadata": {
  "kernelspec": {
   "display_name": "Sanchez",
   "language": "python",
   "name": "python3"
  },
  "language_info": {
   "codemirror_mode": {
    "name": "ipython",
    "version": 3
   },
   "file_extension": ".py",
   "mimetype": "text/x-python",
   "name": "python",
   "nbconvert_exporter": "python",
   "pygments_lexer": "ipython3",
   "version": "3.11.1"
  }
 },
 "nbformat": 4,
 "nbformat_minor": 4
}
